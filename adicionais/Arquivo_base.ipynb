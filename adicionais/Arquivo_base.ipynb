{
 "cells": [
  {
   "attachments": {},
   "cell_type": "markdown",
   "metadata": {},
   "source": [
    "## Checkpoint 2 \n",
    "\n",
    "Utilizando o código abaixo para gerar dados de duas classes.\n",
    "\n",
    "implemente uma rede neural que seja capaz de classificar corretamente os dados.\n",
    "\n",
    "Utilize como parâmetros seu proprio RM.\n",
    "\n",
    "exemplo:\n",
    " RM = abcde\n",
    " - nData = 100 * (a+b+c+d+e)\n",
    " - nVertices = 1 * maximo(a,b,c,d,e)\n",
    "\n"
   ]
  },
  {
   "cell_type": "code",
   "execution_count": null,
   "metadata": {
    "vscode": {
     "languageId": "plaintext"
    }
   },
   "outputs": [],
   "source": [
    "  ### execute essa celula, mas não altere essa função.\n",
    "\n",
    "import numpy as np\n",
    "import matplotlib.pyplot as plt\n",
    "\n",
    "  def generate_data(nData, nVertices):\n",
    "    c = np.random.uniform()*2*np.pi\n",
    "    c1 = np.zeros((nData,2))\n",
    "    c2 = np.zeros((nData,2))\n",
    "    for ii in range(nData):\n",
    "      th = np.random.uniform()*2*np.pi;\n",
    "      r  = 0.5*np.random.uniform()+1.25+0.2*np.cos(nVertices*(th+c));\n",
    "      c1[ii,:]=r*np.array([np.cos(th), np.sin(th)]);\n",
    "\n",
    "      th = np.random.uniform()*3*np.pi;\n",
    "      r  = np.random.uniform()+0.3*np.cos(nVertices*(th+c));\n",
    "      c2[ii,:]=r*np.array([np.cos(th), np.sin(th)]);\n",
    "    return c1, c2"
   ]
  },
  {
   "cell_type": "code",
   "execution_count": null,
   "metadata": {
    "vscode": {
     "languageId": "plaintext"
    }
   },
   "outputs": [],
   "source": [
    "## coloque seu RM aqui!!\n",
    "RM = [8,4,6,3,0]\n",
    "\n",
    "nData = 100 * (sum(RM))\n",
    "nVertices = 1 * max(RM)\n",
    "\n",
    "#gera os dados\n",
    "c1, c2 = generate_data(nData,nVertices)\n",
    "\n",
    "#plot dos dados\n",
    "plt.scatter(c1[:,0],c1[:,1])\n",
    "plt.scatter(c2[:,0],c2[:,1])"
   ]
  },
  {
   "attachments": {},
   "cell_type": "markdown",
   "metadata": {},
   "source": [
    "Comente sobre a decisão de cada parametro utilizado:\n",
    "\n",
    "Serão avaliados:\n",
    "    - estrutura do código\n",
    "    - testes realizados\n",
    "    - Números de neurônios\n",
    "    - Número de camadas\n",
    "    - Algoritmo de adaptação\n",
    "    - Partâmetros do algoritmo de adaptação\n",
    "    - Função de ativação"
   ]
  },
  {
   "cell_type": "code",
   "execution_count": null,
   "metadata": {
    "vscode": {
     "languageId": "plaintext"
    }
   },
   "outputs": [],
   "source": [
    "###### Seu desafio começa aqui.......\n",
    "\n",
    "\n",
    "\n",
    "\n",
    "\n",
    "\n"
   ]
  }
 ],
 "metadata": {
  "interpreter": {
   "hash": "916dbcbb3f70747c44a77c7bcd40155683ae19c65e1c03b4aa3499c5328201f1"
  },
  "kernelspec": {
   "display_name": "Python 3 (ipykernel)",
   "language": "python",
   "name": "python3"
  },
  "language_info": {
   "codemirror_mode": {
    "name": "ipython",
    "version": 3
   },
   "file_extension": ".py",
   "mimetype": "text/x-python",
   "name": "python",
   "nbconvert_exporter": "python",
   "pygments_lexer": "ipython3",
   "version": "3.10.2"
  }
 },
 "nbformat": 4,
 "nbformat_minor": 2
}
